{
  "nbformat": 4,
  "nbformat_minor": 0,
  "metadata": {
    "colab": {
      "name": "[ch_0518]_opencv_2.ipynb",
      "provenance": [],
      "collapsed_sections": [],
      "mount_file_id": "1By4h6DZVi2njHelJ3jY8h4_CPCQUMTZO",
      "authorship_tag": "ABX9TyMizUia4V6s9mwJpw4sXKg0",
      "include_colab_link": true
    },
    "kernelspec": {
      "name": "python3",
      "display_name": "Python 3"
    },
    "language_info": {
      "name": "python"
    }
  },
  "cells": [
    {
      "cell_type": "markdown",
      "metadata": {
        "id": "view-in-github",
        "colab_type": "text"
      },
      "source": [
        "<a href=\"https://colab.research.google.com/github/Pjh940114/Study_choonang/blob/main/%5Bch_0518%5D_opencv_2.ipynb\" target=\"_parent\"><img src=\"https://colab.research.google.com/assets/colab-badge.svg\" alt=\"Open In Colab\"/></a>"
      ]
    },
    {
      "cell_type": "code",
      "execution_count": 1,
      "metadata": {
        "id": "LF7rqjyN3xhW"
      },
      "outputs": [],
      "source": [
        "import numpy as np\n",
        "import cv2\n",
        "from google.colab.patches import cv2_imshow"
      ]
    },
    {
      "cell_type": "code",
      "source": [
        "# 색상\n",
        "blue, green, red = (255, 0, 0), (0, 255, 0), (0, 0, 255)\n",
        "\n",
        "# 3채널 컬러 영상 생성\n",
        "image = np.zeros((400, 600, 3), np.uint8)\n",
        "\n",
        "# 3채널 흰색\n",
        "image[:] = (255, 255, 255)"
      ],
      "metadata": {
        "id": "8-nQYXyw4Ae3"
      },
      "execution_count": 2,
      "outputs": []
    },
    {
      "cell_type": "code",
      "source": [
        "# 좌표 선언\n",
        "pt1 = (50, 50)\n",
        "pt2 = (250, 150)\n",
        "pt3 = (400, 150)\n",
        "pt4 = (500, 100)\n",
        "\n",
        "# 사각형 영역\n",
        "roi = (50, 200, 200, 100)"
      ],
      "metadata": {
        "id": "8mBU2agC4jkR"
      },
      "execution_count": 3,
      "outputs": []
    },
    {
      "cell_type": "code",
      "source": [
        "cv2.putText(image, \"SIMPLEX\", (50, 50), cv2.FONT_HERSHEY_SIMPLEX, 2, red)\n",
        "cv2.putText(image, \"DUPLEX\", (150, 130), cv2.FONT_HERSHEY_DUPLEX, 3, blue)\n",
        "cv2.putText(image, \"TRIPLEX\", pt2, cv2.FONT_HERSHEY_TRIPLEX, 3, green)\n",
        "\n",
        "fontFace = cv2.FONT_HERSHEY_PLAIN | cv2.FONT_ITALIC\n",
        "cv2.putText(image, 'ITALIC', pt2, fontFace, 4, blue)"
      ],
      "metadata": {
        "colab": {
          "base_uri": "https://localhost:8080/"
        },
        "id": "PsWsya0w4JLP",
        "outputId": "a7eaef4f-4d03-4d85-f6b3-263b9c99bb61"
      },
      "execution_count": 4,
      "outputs": [
        {
          "output_type": "execute_result",
          "data": {
            "text/plain": [
              "array([[[255, 255, 255],\n",
              "        [255, 255, 255],\n",
              "        [255, 255, 255],\n",
              "        ...,\n",
              "        [255, 255, 255],\n",
              "        [255, 255, 255],\n",
              "        [255, 255, 255]],\n",
              "\n",
              "       [[255, 255, 255],\n",
              "        [255, 255, 255],\n",
              "        [255, 255, 255],\n",
              "        ...,\n",
              "        [255, 255, 255],\n",
              "        [255, 255, 255],\n",
              "        [255, 255, 255]],\n",
              "\n",
              "       [[255, 255, 255],\n",
              "        [255, 255, 255],\n",
              "        [255, 255, 255],\n",
              "        ...,\n",
              "        [255, 255, 255],\n",
              "        [255, 255, 255],\n",
              "        [255, 255, 255]],\n",
              "\n",
              "       ...,\n",
              "\n",
              "       [[255, 255, 255],\n",
              "        [255, 255, 255],\n",
              "        [255, 255, 255],\n",
              "        ...,\n",
              "        [255, 255, 255],\n",
              "        [255, 255, 255],\n",
              "        [255, 255, 255]],\n",
              "\n",
              "       [[255, 255, 255],\n",
              "        [255, 255, 255],\n",
              "        [255, 255, 255],\n",
              "        ...,\n",
              "        [255, 255, 255],\n",
              "        [255, 255, 255],\n",
              "        [255, 255, 255]],\n",
              "\n",
              "       [[255, 255, 255],\n",
              "        [255, 255, 255],\n",
              "        [255, 255, 255],\n",
              "        ...,\n",
              "        [255, 255, 255],\n",
              "        [255, 255, 255],\n",
              "        [255, 255, 255]]], dtype=uint8)"
            ]
          },
          "metadata": {},
          "execution_count": 4
        }
      ]
    },
    {
      "cell_type": "code",
      "source": [
        "#cv2.imshow('Line & rectangle', image)\n",
        "cv2_imshow(image)\n",
        "cv2.waitKey(0)\n",
        "cv2.destroyAllWindows()"
      ],
      "metadata": {
        "colab": {
          "base_uri": "https://localhost:8080/",
          "height": 417
        },
        "id": "4TvFHlpa4gkA",
        "outputId": "d18aa81c-5faf-414f-a6a4-ae42dd387bd1"
      },
      "execution_count": 5,
      "outputs": [
        {
          "output_type": "display_data",
          "data": {
            "text/plain": [
              "<PIL.Image.Image image mode=RGB size=600x400 at 0x7F00840E22D0>"
            ],
            "image/png": "[encoded data removed]"
          },
          "metadata": {}
        }
      ]
    },
    {
      "cell_type": "code",
      "source": [
        ""
      ],
      "metadata": {
        "id": "K04qUCRp5dWf"
      },
      "execution_count": 5,
      "outputs": []
    }
  ]
}