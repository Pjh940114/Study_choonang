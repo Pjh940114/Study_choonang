{
  "cells": [
    {
      "cell_type": "markdown",
      "metadata": {
        "id": "view-in-github",
        "colab_type": "text"
      },
      "source": [
        "<a href=\"https://colab.research.google.com/github/Pjh940114/Study_choonang/blob/main/%5Bch_0518%5D_CNN_%EC%A0%84%EC%9D%B4%ED%95%99%EC%8A%B5.ipynb\" target=\"_parent\"><img src=\"https://colab.research.google.com/assets/colab-badge.svg\" alt=\"Open In Colab\"/></a>"
      ]
    },
    {
      "cell_type": "code",
      "source": [
        "# 전이학습에 대하여\n",
        "# 기 학습된 Pretrained Network VGG16 이용 \n",
        "\n",
        "from tensorflow.keras.applications import VGG16"
      ],
      "metadata": {
        "id": "ikVjoExUnkfP"
      },
      "execution_count": null,
      "outputs": []
    },
    {
      "cell_type": "code",
      "source": [
        "model_base = VGG16(\n",
        "    weights = 'imagenet',\n",
        "    include_top = False, # 앞에 부분만 사용\n",
        "    input_shape = (150, 150, 3))\n",
        "\n",
        "print(model_base.summary())"
      ],
      "metadata": {
        "colab": {
          "base_uri": "https://localhost:8080/"
        },
        "id": "eCVF_5kFoBTS",
        "outputId": "9073425a-a0f9-411b-f60c-b918b3fe0d1d"
      },
      "execution_count": null,
      "outputs": [
        {
          "output_type": "stream",
          "name": "stdout",
          "text": [
            "Downloading data from https://storage.googleapis.com/tensorflow/keras-applications/vgg16/vgg16_weights_tf_dim_ordering_tf_kernels_notop.h5\n",
            "58892288/58889256 [==============================] - 0s 0us/step\n",
            "58900480/58889256 [==============================] - 0s 0us/step\n",
            "Model: \"vgg16\"\n",
            "_________________________________________________________________\n",
            " Layer (type)                Output Shape              Param #   \n",
            "=================================================================\n",
            " input_1 (InputLayer)        [(None, 150, 150, 3)]     0         \n",
            "                                                                 \n",
            " block1_conv1 (Conv2D)       (None, 150, 150, 64)      1792      \n",
            "                                                                 \n",
            " block1_conv2 (Conv2D)       (None, 150, 150, 64)      36928     \n",
            "                                                                 \n",
            " block1_pool (MaxPooling2D)  (None, 75, 75, 64)        0         \n",
            "                                                                 \n",
            " block2_conv1 (Conv2D)       (None, 75, 75, 128)       73856     \n",
            "                                                                 \n",
            " block2_conv2 (Conv2D)       (None, 75, 75, 128)       147584    \n",
            "                                                                 \n",
            " block2_pool (MaxPooling2D)  (None, 37, 37, 128)       0         \n",
            "                                                                 \n",
            " block3_conv1 (Conv2D)       (None, 37, 37, 256)       295168    \n",
            "                                                                 \n",
            " block3_conv2 (Conv2D)       (None, 37, 37, 256)       590080    \n",
            "                                                                 \n",
            " block3_conv3 (Conv2D)       (None, 37, 37, 256)       590080    \n",
            "                                                                 \n",
            " block3_pool (MaxPooling2D)  (None, 18, 18, 256)       0         \n",
            "                                                                 \n",
            " block4_conv1 (Conv2D)       (None, 18, 18, 512)       1180160   \n",
            "                                                                 \n",
            " block4_conv2 (Conv2D)       (None, 18, 18, 512)       2359808   \n",
            "                                                                 \n",
            " block4_conv3 (Conv2D)       (None, 18, 18, 512)       2359808   \n",
            "                                                                 \n",
            " block4_pool (MaxPooling2D)  (None, 9, 9, 512)         0         \n",
            "                                                                 \n",
            " block5_conv1 (Conv2D)       (None, 9, 9, 512)         2359808   \n",
            "                                                                 \n",
            " block5_conv2 (Conv2D)       (None, 9, 9, 512)         2359808   \n",
            "                                                                 \n",
            " block5_conv3 (Conv2D)       (None, 9, 9, 512)         2359808   \n",
            "                                                                 \n",
            " block5_pool (MaxPooling2D)  (None, 4, 4, 512)         0         \n",
            "                                                                 \n",
            "=================================================================\n",
            "Total params: 14,714,688\n",
            "Trainable params: 14,714,688\n",
            "Non-trainable params: 0\n",
            "_________________________________________________________________\n",
            "None\n"
          ]
        }
      ]
    },
    {
      "cell_type": "code",
      "execution_count": null,
      "metadata": {
        "id": "vt0MAVgGnZwn"
      },
      "outputs": [],
      "source": [
        "import numpy as np\n",
        "from tensorflow.keras.models import Sequential\n",
        "from tensorflow.keras.layers import Conv2D, MaxPooling2D\n",
        "from tensorflow.keras.layers import Flatten, Dense\n",
        "from tensorflow.keras.optimizers import Adam # 평균적으로 높은 효율을 내는 알고리즘\n",
        "from tensorflow.keras.preprocessing.image import ImageDataGenerator"
      ]
    },
    {
      "cell_type": "code",
      "execution_count": null,
      "metadata": {
        "id": "AA44Z-gWnttN"
      },
      "outputs": [],
      "source": [
        "# ImageDataGenerator 객체 생성\n",
        "Train_Datagen = ImageDataGenerator(rescale = 1/255)\n",
        "Test_Datagen = ImageDataGenerator(rescale = 1/255)"
      ]
    },
    {
      "cell_type": "code",
      "execution_count": null,
      "metadata": {
        "id": "JPx1MBmKpmgk"
      },
      "outputs": [],
      "source": [
        "train_dir = \"/content/drive/MyDrive/cats_and_dogs_small/train\"\n",
        "test_dir = \"/content/drive/MyDrive/cats_and_dogs_small/test\""
      ]
    },
    {
      "cell_type": "code",
      "execution_count": null,
      "metadata": {
        "colab": {
          "base_uri": "https://localhost:8080/"
        },
        "id": "xEbocafdoHLz",
        "outputId": "d8466aa3-0509-4314-f100-640bf8d1bd91"
      },
      "outputs": [
        {
          "output_type": "stream",
          "name": "stdout",
          "text": [
            "Found 2000 images belonging to 2 classes.\n",
            "Found 1000 images belonging to 2 classes.\n"
          ]
        }
      ],
      "source": [
        "# ImageDataGenerator 설정\n",
        "train_generator = Train_Datagen.flow_from_directory(\n",
        "    train_dir, # 학습용 이미지를 가져올 폴더\n",
        "    classes = ['cats', 'dogs'], # cat 폴더의 이미지 label 을 0으로, dogs 폴더의 이미지 label 을 1로 설정\n",
        "    target_size = (150, 150), # 이미지 resize\n",
        "    batch_size = 20, # 한번에 20개의 이미지만 가져와서 학습\n",
        "    class_mode = 'binary'  # 이진분류\n",
        ")\n",
        "\n",
        "# 평가용\n",
        "test_generator = Test_Datagen.flow_from_directory(\n",
        "    test_dir, # 평가용 이미지를 가져올 폴더\n",
        "    classes = ['cats', 'dogs'], # cat 폴더의 이미지 label 을 0으로, dogs 폴더의 이미지 label 을 1로 설정\n",
        "    target_size = (150, 150), # 이미지 resize\n",
        "    batch_size = 20, \n",
        "    class_mode = 'binary'  # 이진분류\n",
        ")\n"
      ]
    },
    {
      "cell_type": "code",
      "execution_count": null,
      "metadata": {
        "id": "vy8q9NxaqmwE"
      },
      "outputs": [],
      "source": [
        "# CNN Model 구현\n",
        "\n",
        "model = Sequential()\n",
        "\n",
        "# model.add(Conv2D(filters=32,\n",
        "#                  kernel_size=(3,3),\n",
        "#                  strides=(1,1),\n",
        "#                  activation='relu',\n",
        "#                  input_shape=(150,150,3)))\n",
        "\n",
        "# model.add(Conv2D(filters=64,\n",
        "#                  kernel_size=(3,3),\n",
        "#                  strides=(1,1),\n",
        "#                  activation='relu'))\n",
        "\n",
        "# model.add(MaxPooling2D(pool_size=(2,2)))\n",
        "\n",
        "# model.add(Conv2D(filters=64,\n",
        "#                  kernel_size=(3,3),\n",
        "#                  strides=(1,1),\n",
        "#                  activation='relu'))\n",
        "\n",
        "from tensorflow.keras.applications import VGG16\n",
        "\n",
        "model_base = VGG16(\n",
        "    weights = 'imagenet',\n",
        "    include_top = False, \n",
        "    input_shape = (150, 150, 3))\n",
        "\n",
        "model.add(model_base) # 가져온 모델을 우리 모델에 적용"
      ]
    },
    {
      "cell_type": "code",
      "execution_count": null,
      "metadata": {
        "id": "StRyOw8wr_kz"
      },
      "outputs": [],
      "source": [
        "# Classification 하는 부분은 우리가 구현해야함.\n",
        "\n",
        "# FC Layer(DNN) input layer\n",
        "model.add(Flatten())    # 전체 데이터를 4차원에서 2차원으로 변경\n",
        "\n",
        "# # hidden layer\n",
        "# model.add(Dense(units=256,\n",
        "#                 activation='relu'))\n",
        "\n",
        "# output layer\n",
        "model.add(Dense(units=1,\n",
        "                activation='sigmoid'))"
      ]
    },
    {
      "cell_type": "code",
      "execution_count": null,
      "metadata": {
        "id": "ADolilOdtwE1"
      },
      "outputs": [],
      "source": [
        "# print(model.summary())\n",
        "# model이 어떻게 동작하는지를 지정\n",
        "model.compile(optimizer=Adam(learning_rate=0.0001),\n",
        "              loss='binary_crossentropy',\n",
        "              metrics=['accuracy'])"
      ]
    },
    {
      "cell_type": "code",
      "execution_count": null,
      "metadata": {
        "colab": {
          "base_uri": "https://localhost:8080/"
        },
        "id": "RMXP9MjXtyar",
        "outputId": "7de5e95a-f4cf-4af4-ca8d-62e81ad28218"
      },
      "outputs": [
        {
          "output_type": "stream",
          "name": "stdout",
          "text": [
            "Epoch 1/30\n",
            "100/100 [==============================] - 452s 4s/step - loss: 0.6143 - accuracy: 0.6425 - val_loss: 0.4892 - val_accuracy: 0.7670\n",
            "Epoch 2/30\n",
            "100/100 [==============================] - 55s 553ms/step - loss: 0.4171 - accuracy: 0.8095 - val_loss: 0.6711 - val_accuracy: 0.6720\n",
            "Epoch 3/30\n",
            "100/100 [==============================] - 55s 553ms/step - loss: 0.2765 - accuracy: 0.8835 - val_loss: 0.3662 - val_accuracy: 0.8530\n",
            "Epoch 4/30\n",
            "100/100 [==============================] - 55s 553ms/step - loss: 0.1668 - accuracy: 0.9360 - val_loss: 0.2854 - val_accuracy: 0.8760\n",
            "Epoch 5/30\n",
            "100/100 [==============================] - 55s 553ms/step - loss: 0.0889 - accuracy: 0.9655 - val_loss: 0.3993 - val_accuracy: 0.8760\n",
            "Epoch 6/30\n",
            "100/100 [==============================] - 55s 553ms/step - loss: 0.0860 - accuracy: 0.9675 - val_loss: 0.3488 - val_accuracy: 0.8810\n",
            "Epoch 7/30\n",
            "100/100 [==============================] - 55s 553ms/step - loss: 0.0340 - accuracy: 0.9880 - val_loss: 0.6156 - val_accuracy: 0.8700\n",
            "Epoch 8/30\n",
            "100/100 [==============================] - 55s 553ms/step - loss: 0.0656 - accuracy: 0.9765 - val_loss: 0.4071 - val_accuracy: 0.8680\n",
            "Epoch 9/30\n",
            "100/100 [==============================] - 55s 553ms/step - loss: 0.0207 - accuracy: 0.9930 - val_loss: 0.5713 - val_accuracy: 0.8750\n",
            "Epoch 10/30\n",
            "100/100 [==============================] - 55s 553ms/step - loss: 0.0699 - accuracy: 0.9755 - val_loss: 0.4558 - val_accuracy: 0.8710\n",
            "Epoch 11/30\n",
            "100/100 [==============================] - 55s 553ms/step - loss: 0.0332 - accuracy: 0.9865 - val_loss: 0.3790 - val_accuracy: 0.8970\n",
            "Epoch 12/30\n",
            "100/100 [==============================] - 55s 554ms/step - loss: 0.0144 - accuracy: 0.9965 - val_loss: 0.4702 - val_accuracy: 0.9030\n",
            "Epoch 13/30\n",
            "100/100 [==============================] - 55s 554ms/step - loss: 0.0198 - accuracy: 0.9955 - val_loss: 0.4660 - val_accuracy: 0.8910\n",
            "Epoch 14/30\n",
            "100/100 [==============================] - 55s 553ms/step - loss: 9.5941e-04 - accuracy: 1.0000 - val_loss: 0.5538 - val_accuracy: 0.8910\n",
            "Epoch 15/30\n",
            "100/100 [==============================] - 55s 554ms/step - loss: 1.1145e-04 - accuracy: 1.0000 - val_loss: 0.5740 - val_accuracy: 0.8940\n",
            "Epoch 16/30\n",
            "100/100 [==============================] - 55s 554ms/step - loss: 3.5550e-05 - accuracy: 1.0000 - val_loss: 0.5865 - val_accuracy: 0.8940\n",
            "Epoch 17/30\n",
            "100/100 [==============================] - 55s 553ms/step - loss: 2.6146e-05 - accuracy: 1.0000 - val_loss: 0.5993 - val_accuracy: 0.8950\n",
            "Epoch 18/30\n",
            "100/100 [==============================] - 55s 553ms/step - loss: 2.0166e-05 - accuracy: 1.0000 - val_loss: 0.6098 - val_accuracy: 0.8950\n",
            "Epoch 19/30\n",
            "100/100 [==============================] - 55s 553ms/step - loss: 1.6063e-05 - accuracy: 1.0000 - val_loss: 0.6209 - val_accuracy: 0.8960\n",
            "Epoch 20/30\n",
            "100/100 [==============================] - 55s 554ms/step - loss: 1.2721e-05 - accuracy: 1.0000 - val_loss: 0.6349 - val_accuracy: 0.8940\n",
            "Epoch 21/30\n",
            "100/100 [==============================] - 55s 554ms/step - loss: 9.4631e-06 - accuracy: 1.0000 - val_loss: 0.6556 - val_accuracy: 0.8960\n",
            "Epoch 22/30\n",
            "100/100 [==============================] - 55s 553ms/step - loss: 6.4737e-06 - accuracy: 1.0000 - val_loss: 0.6820 - val_accuracy: 0.8970\n",
            "Epoch 23/30\n",
            "100/100 [==============================] - 55s 554ms/step - loss: 4.3982e-06 - accuracy: 1.0000 - val_loss: 0.7072 - val_accuracy: 0.8970\n",
            "Epoch 24/30\n",
            "100/100 [==============================] - 55s 554ms/step - loss: 3.1902e-06 - accuracy: 1.0000 - val_loss: 0.7291 - val_accuracy: 0.9000\n",
            "Epoch 25/30\n",
            "100/100 [==============================] - 55s 554ms/step - loss: 2.4467e-06 - accuracy: 1.0000 - val_loss: 0.7467 - val_accuracy: 0.9010\n",
            "Epoch 26/30\n",
            "100/100 [==============================] - 55s 553ms/step - loss: 1.9320e-06 - accuracy: 1.0000 - val_loss: 0.7612 - val_accuracy: 0.9020\n",
            "Epoch 27/30\n",
            "100/100 [==============================] - 55s 554ms/step - loss: 1.5872e-06 - accuracy: 1.0000 - val_loss: 0.7744 - val_accuracy: 0.9010\n",
            "Epoch 28/30\n",
            "100/100 [==============================] - 55s 554ms/step - loss: 1.3160e-06 - accuracy: 1.0000 - val_loss: 0.7873 - val_accuracy: 0.9000\n",
            "Epoch 29/30\n",
            "100/100 [==============================] - 55s 554ms/step - loss: 1.1126e-06 - accuracy: 1.0000 - val_loss: 0.7991 - val_accuracy: 0.9010\n",
            "Epoch 30/30\n",
            "100/100 [==============================] - 55s 554ms/step - loss: 9.3808e-07 - accuracy: 1.0000 - val_loss: 0.8096 - val_accuracy: 0.9010\n"
          ]
        },
        {
          "output_type": "execute_result",
          "data": {
            "text/plain": [
              "<keras.callbacks.History at 0x7ff217e5dad0>"
            ]
          },
          "metadata": {},
          "execution_count": 11
        }
      ],
      "source": [
        "# 설정이 다 되었으면 모델을 학습.\n",
        "model.fit(train_generator,\n",
        "          steps_per_epoch=100,\n",
        "          epochs=30,\n",
        "          verbose=1,\n",
        "          validation_data=test_generator,\n",
        "          validation_steps=50)"
      ]
    },
    {
      "cell_type": "code",
      "source": [
        ""
      ],
      "metadata": {
        "id": "qQMwcxrc3zWv"
      },
      "execution_count": null,
      "outputs": []
    }
  ],
  "metadata": {
    "colab": {
      "collapsed_sections": [],
      "name": "[ch_0518]_CNN_전이학습.ipynb",
      "provenance": [],
      "toc_visible": true,
      "mount_file_id": "1f4pVzDdmMBJU0DyqxzrNzN7EP44DoeG8",
      "authorship_tag": "ABX9TyNEsXd7ppTJgrHEuHVvnnJU",
      "include_colab_link": true
    },
    "kernelspec": {
      "display_name": "Python 3",
      "name": "python3"
    },
    "language_info": {
      "name": "python"
    },
    "accelerator": "GPU"
  },
  "nbformat": 4,
  "nbformat_minor": 0
}