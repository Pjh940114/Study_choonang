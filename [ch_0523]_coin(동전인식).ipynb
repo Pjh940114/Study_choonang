{
  "nbformat": 4,
  "nbformat_minor": 0,
  "metadata": {
    "colab": {
      "name": "[ch_0523]_coin(동전인식).ipynb",
      "provenance": [],
      "collapsed_sections": [],
      "mount_file_id": "1vhyfND6R0CAsyjgvOkKuMQdcyPhrpjrb",
      "authorship_tag": "ABX9TyP1PsRofc6vn/xURm5mavEz",
      "include_colab_link": true
    },
    "kernelspec": {
      "name": "python3",
      "display_name": "Python 3"
    },
    "language_info": {
      "name": "python"
    }
  },
  "cells": [
    {
      "cell_type": "markdown",
      "metadata": {
        "id": "view-in-github",
        "colab_type": "text"
      },
      "source": [
        "<a href=\"https://colab.research.google.com/github/Pjh940114/Study_choonang/blob/main/%5Bch_0523%5D_coin(%EB%8F%99%EC%A0%84%EC%9D%B8%EC%8B%9D).ipynb\" target=\"_parent\"><img src=\"https://colab.research.google.com/assets/colab-badge.svg\" alt=\"Open In Colab\"/></a>"
      ]
    },
    {
      "cell_type": "code",
      "execution_count": null,
      "metadata": {
        "id": "1Sj21a3wu9eC"
      },
      "outputs": [],
      "source": [
        "from header.coin_preprocess import *\n",
        "\n",
        "image, th_img = preprocessing(70)                           # 전처리 수행\n",
        "if image is None: raise Exception(\"영상 파일 읽기 에러\")\n",
        "\n",
        "circles = find_coins(th_img)                            # 객체(회전사각형) 검출\n",
        "for center, radius in circles:\n",
        "    cv2.circle(image, center, radius, (0, 255, 0), 2)   # 동전 영상 원으로 표시\n",
        "\n",
        "cv2.imshow(\"preprocessed image\", th_img)\n",
        "cv2.imshow(\"coin image\", image)\n",
        "cv2.waitKey(0)"
      ]
    },
    {
      "cell_type": "code",
      "source": [
        "from header.coin_preprocess import *\n",
        "from header.coin_utils import *                            # 기타 함수\n",
        "from Common.histogram import draw_histo_hue\n",
        "\n",
        "coin_no = 15\n",
        "image, th_img = preprocessing(coin_no)                            # 전처리 수행\n",
        "circles = find_coins(th_img)                     # 객체(회전사각형) 검출\n",
        "coin_imgs = make_coin_img(image, circles)                # 동전 영상 생성\n",
        "coin_hists = [calc_histo_hue(coin) for coin in coin_imgs] # 영상 히스토그램\n",
        "\n",
        "for i, img in enumerate(coin_imgs):\n",
        "    h, w = 200, 256\n",
        "    hist_img = draw_histo_hue(coin_hists[i], (h, w, 3))    # 색상 히스토그램 표시\n",
        "\n",
        "    merge = np.zeros((h, w+h, 3), np.uint8)\n",
        "    merge[:, :w] = hist_img\n",
        "    merge[:, w:] = cv2.resize(img, (h, h))\n",
        "    cv2.imshow(\"hist&coin-\" + str(i), merge)\n",
        "\n",
        "cv2.waitKey(0)\n"
      ],
      "metadata": {
        "id": "T9cNPqkuvDg_"
      },
      "execution_count": null,
      "outputs": []
    },
    {
      "cell_type": "code",
      "source": [
        "from Common.histogram import draw_histo_hue\n",
        "from header.coin_preprocess import *\n",
        "from header.coin_utils import *                            # 기타 함수\n",
        "\n",
        "def onMouse(event, x, y, flags, param):\n",
        "    global pre_img, hist_roi\n",
        "    if event == cv2.EVENT_LBUTTONDOWN:          # 왼쪽 버튼 누르기\n",
        "        for i, ((cx, cy), radius) in enumerate(circles):    # 메뉴아이콘 사각형 조회\n",
        "            dx, dy = (cx - x), (cy - y)\n",
        "            dist = np.sqrt(dx**2 + dy**2)     # 동전 중점좌표와 클릭좌표간 거리\n",
        "\n",
        "            if dist < radius:\n",
        "                hist_img = draw_histo_hue(coin_hists[i], (80, 128, 3))\n",
        "                h, w = hist_img.shape[:2]\n",
        "                hist_roi = [x, y, w, h]\n",
        "                pre_img =  image[y:y + h, x:x + w].copy()\n",
        "                image[y:y+h, x:x+w] = hist_img\n",
        "                cv2.imshow(\"image\", image)\n",
        "\n",
        "    if event == cv2.EVENT_LBUTTONUP:            # 왼쪽 버튼 떼기\n",
        "        x, y, w, h =  hist_roi\n",
        "        image[y:y+h, x:x+w] = pre_img\n",
        "        cv2.imshow(\"image\", image)\n",
        "\n",
        "coin_no = 15\n",
        "image, th_img = preprocessing(coin_no)                            # 전처리 수행\n",
        "circles = find_coins(th_img)                    # 객체 검출\n",
        "\n",
        "coin_imgs = make_coin_img(image, circles)                # 동전 영상 생성\n",
        "coin_hists = [calc_histo_hue(coin) for coin in coin_imgs] # 각 동전영상 히스토그램\n",
        "\n",
        "for center, radius in circles:\n",
        "    cv2.circle(image, center, radius, (0, 255, 0), 2)\n",
        "\n",
        "cv2.imshow(\"image\", image)\n",
        "cv2.setMouseCallback(\"image\", onMouse)\n",
        "cv2.waitKey(0)"
      ],
      "metadata": {
        "id": "HrIwdRd2vFSO"
      },
      "execution_count": null,
      "outputs": []
    },
    {
      "cell_type": "code",
      "source": [
        "from header.coin_preprocess import *\n",
        "from header.coin_utils import *                            # 기타 함수\n",
        "from Common.histogram import draw_histo_hue\n",
        "import matplotlib.pyplot as plt\n",
        "\n",
        "no, max_no = 50, 100\n",
        "\n",
        "while True:\n",
        "    gray, image = preprocessing(no)                             # 전처리 수행\n",
        "    if image is None:\n",
        "        print(\"{0:02d}.jpg: 영상 파일이 없습니다.\".format(no))\n",
        "        if no < 0 : no: no = max_no\n",
        "        no = no + 1\n",
        "        if no >= max_no: no = 0\n",
        "        continue\n",
        "\n",
        "    image, th_img = preprocessing(no)                            # 전처리 수행\n",
        "    circles = find_coins(th_img)                     # 객체(회전사각형) 검출\n",
        "    coin_imgs = make_coin_img(image, circles)                # 동전 영상 생성\n",
        "    coin_hists = [calc_histo_hue(coin) for coin in coin_imgs] # 영상 히스토그램\n",
        "\n",
        "    merge = np.zeros((200, 456, 3), np.uint8)\n",
        "    n = int(np.ceil(len(coin_imgs)/4))\n",
        "    merges = cv2.repeat(merge, n, 4)\n",
        "    for i, img in enumerate(coin_imgs):\n",
        "        hist_img = draw_histo_hue(coin_hists[i], (200, 256, 3))    # 색상 히스토그램 표시\n",
        "        h, w = hist_img.shape[:2]\n",
        "        merge[:, :w] = hist_img\n",
        "        merge[:, w:] = cv2.resize(img, (h, h))\n",
        "        x, y = i%4 , i//4\n",
        "        y, x = np.multiply( (y, x), merge.shape[:2])\n",
        "        merges[y:y+h, x:x+w+200] = merge\n",
        "\n",
        "    cv2.imshow(\"hist- \"+ str(no) ,merges)\n",
        "    cv2.moveWindow(\"hist- \"+ str(no), -2000,400)\n",
        "\n",
        "    key = cv2.waitKeyEx(0)  # 키 이벤트 대기\n",
        "    cv2.destroyAllWindows()\n",
        "    if key == 2621440:\n",
        "        no = no + 1  # 아래쪽 화살표 키이면 다음 영상\n",
        "    elif key == 2490368:\n",
        "        no = no - 1  # 윗쪽 화살표 키이면 이전 영상\n",
        "    elif key == 32 or key == 27:\n",
        "        break  # 프로그램 종료 조건"
      ],
      "metadata": {
        "id": "E36l-AcevIHv"
      },
      "execution_count": null,
      "outputs": []
    },
    {
      "cell_type": "code",
      "source": [
        "from header.coin_preprocess import *\n",
        "from header.coin_utils import *                            # 기타 함수\n",
        "from Common.utils import put_string\n",
        "\n",
        "coin_no = int(input(\"동전 영상 번호: \"))\n",
        "image, th_img = preprocessing(coin_no)                              # 전처리 수행\n",
        "circles = find_coins(th_img)                     # 객체(회전사각형) 검출\n",
        "coin_imgs = make_coin_img(image, circles)                  # 동전 영상 생성\n",
        "coin_hists= [calc_histo_hue(coin) for coin in coin_imgs]   # 동전 영상 히스토그램\n",
        "\n",
        "groups = grouping(coin_hists)                              # 동전 영상 그룹 분리\n",
        "ncoins = classify_coins(circles, groups)                   # 동전 인식\n",
        "\n",
        "coin_value = np.array([10, 50, 100, 500])                             # 동전 금액\n",
        "for i in range(4):\n",
        "    print(\"%3d원: %3d개\" % (coin_value[i], ncoins[i]))\n",
        "\n",
        "total = sum(coin_value * ncoins )           # 동전금액* 동전별 개수\n",
        "str = \"Total coin: {:,} Won\".format(total)            # 계산된 금액 문자열\n",
        "print(str)                                                 # 콘솔창에 출력\n",
        "put_string(image, str, (650, 50), '', (0,230,0))\n",
        "\n",
        "## 동전 객체에 정보(반지름, 금액) 표시\n",
        "color = [(0, 0, 250), (255, 255, 0), (0, 250, 0), (250, 0, 255)]  # 동전별 색상\n",
        "for i, (c, r) in enumerate(circles):\n",
        "    cv2.circle(image, c, r, color[groups[i]], 2)\n",
        "    put_string(image, i, (c[0] - 15, c[1] - 10), '', color[2])  # 검출 순번과 동전 반지 표시\n",
        "    put_string(image, r, (c[0], c[1] + 15), '', color[3])\n",
        "\n",
        "cv2.imshow(\"result image\", image)\n",
        "key = cv2.waitKey(0)  # 키 이벤트 대기\n"
      ],
      "metadata": {
        "id": "MJMZXIbDvKkp"
      },
      "execution_count": null,
      "outputs": []
    }
  ]
}