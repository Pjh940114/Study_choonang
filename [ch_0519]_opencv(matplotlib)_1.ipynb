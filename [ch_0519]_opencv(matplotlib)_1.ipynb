{
  "cells": [
    {
      "cell_type": "markdown",
      "metadata": {
        "id": "view-in-github",
        "colab_type": "text"
      },
      "source": [
        "<a href=\"https://colab.research.google.com/github/Pjh940114/Study_choonang/blob/main/%5Bch_0519%5D_opencv(matplotlib)_1.ipynb\" target=\"_parent\"><img src=\"https://colab.research.google.com/assets/colab-badge.svg\" alt=\"Open In Colab\"/></a>"
      ]
    },
    {
      "cell_type": "code",
      "execution_count": null,
      "id": "9d4346fe",
      "metadata": {
        "id": "9d4346fe"
      },
      "outputs": [],
      "source": [
        "import cv2\n",
        "import matplotlib.pyplot as plt\n",
        "image  = cv2.imread(\"images/matplot.jpg\", cv2.IMREAD_COLOR)\n",
        "\n",
        "if image is None: raise Exception(\"영상 파일 읽기 에러\")\n",
        "rows, cols = image.shape[:2]\n",
        "rgb_img = cv2.cvtColor(image,cv2.COLOR_BGR2RGB)\n",
        "gray_img = cv2.cvtColor(image,cv2.COLOR_BGR2GRAY)\n",
        "fig = plt.figure(num=1, figsize=(3,4))\n",
        "\n",
        "plt.imshow(image ), plt.title('figure1- original(bgr)')\n",
        "plt.axis('off'), plt.tight_layout()\n",
        "\n",
        "fig = plt.figure(num=2, figsize=(6,4))\n",
        "\n",
        "plt.suptitle( 'figure2- pyplot image display')\n",
        "plt.subplot(1,2,1), plt.imshow(rgb_img)\n",
        "plt.axis([0,cols, rows,0]), plt.title('rgb color')\n",
        "plt.subplot(1,2,2), plt.imshow(gray_img, cmap='gray')\n",
        "plt.title('gray_img2')\n",
        "plt.show()"
      ]
    }
  ],
  "metadata": {
    "kernelspec": {
      "display_name": "py39tf2GPU",
      "language": "python",
      "name": "py39tf2gpu"
    },
    "language_info": {
      "codemirror_mode": {
        "name": "ipython",
        "version": 3
      },
      "file_extension": ".py",
      "mimetype": "text/x-python",
      "name": "python",
      "nbconvert_exporter": "python",
      "pygments_lexer": "ipython3",
      "version": "3.9.12"
    },
    "colab": {
      "name": "[ch_0519]_opencv(matplotlib)_1.ipynb",
      "provenance": [],
      "include_colab_link": true
    }
  },
  "nbformat": 4,
  "nbformat_minor": 5
}