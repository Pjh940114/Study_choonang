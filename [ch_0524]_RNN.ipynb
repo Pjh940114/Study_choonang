{
  "nbformat": 4,
  "nbformat_minor": 0,
  "metadata": {
    "colab": {
      "name": "[ch_0524]_RNN.ipynb",
      "provenance": [],
      "collapsed_sections": [],
      "toc_visible": true,
      "mount_file_id": "1O3PLrHAo7Yq1BaxeYGjEi5v1IQSYVzcF",
      "authorship_tag": "ABX9TyPPMydmKcXmJYD+sBdO/uVq",
      "include_colab_link": true
    },
    "kernelspec": {
      "name": "python3",
      "display_name": "Python 3"
    },
    "language_info": {
      "name": "python"
    },
    "accelerator": "GPU"
  },
  "cells": [
    {
      "cell_type": "markdown",
      "metadata": {
        "id": "view-in-github",
        "colab_type": "text"
      },
      "source": [
        "<a href=\"https://colab.research.google.com/github/Pjh940114/Study_choonang/blob/main/%5Bch_0524%5D_RNN.ipynb\" target=\"_parent\"><img src=\"https://colab.research.google.com/assets/colab-badge.svg\" alt=\"Open In Colab\"/></a>"
      ]
    },
    {
      "cell_type": "markdown",
      "source": [
        "순환 신경망(Recurrent Nueural Network, RNN)\n",
        "\n",
        "- 루프를 가진 신경망의 한 종류\n",
        "- 시퀀스의 원소를 순회하면서 지금까지 처리한 정보를 상태에 저장"
      ],
      "metadata": {
        "id": "fKLfo_cuC-yU"
      }
    },
    {
      "cell_type": "markdown",
      "source": [
        "순환 신경망 레이어 (RNN Layer)\n",
        "- 입력 (timesteps, input_feautres)\n",
        "- 출력 (timesteps, output_features)"
      ],
      "metadata": {
        "id": "wNtvkqLuDRJa"
      }
    },
    {
      "cell_type": "code",
      "source": [
        "import numpy as np"
      ],
      "metadata": {
        "id": "B57czQ1DDTMj"
      },
      "execution_count": 37,
      "outputs": []
    },
    {
      "cell_type": "code",
      "source": [
        "timesteps = 100\n",
        "input_features = 32\n",
        "output_features = 64"
      ],
      "metadata": {
        "id": "cl87uRVoDVBz"
      },
      "execution_count": 38,
      "outputs": []
    },
    {
      "cell_type": "code",
      "source": [
        "inputs = np.random.random((timesteps, input_features))\n",
        "inputs"
      ],
      "metadata": {
        "colab": {
          "base_uri": "https://localhost:8080/"
        },
        "id": "cMJobUtbDYfj",
        "outputId": "6a799068-426d-461d-ffaa-71c56955449e"
      },
      "execution_count": 39,
      "outputs": [
        {
          "output_type": "execute_result",
          "data": {
            "text/plain": [
              "array([[0.65504758, 0.16139141, 0.19124961, ..., 0.83045213, 0.21692211,\n",
              "        0.17308921],\n",
              "       [0.68526931, 0.29684784, 0.61099417, ..., 0.62121136, 0.63866742,\n",
              "        0.66978721],\n",
              "       [0.38258358, 0.58578748, 0.69200952, ..., 0.23823613, 0.54386811,\n",
              "        0.17013712],\n",
              "       ...,\n",
              "       [0.61457749, 0.43652499, 0.80572282, ..., 0.7734277 , 0.78297539,\n",
              "        0.57697877],\n",
              "       [0.23638886, 0.31187332, 0.3694625 , ..., 0.6725329 , 0.65282278,\n",
              "        0.41367565],\n",
              "       [0.17747687, 0.72587148, 0.5707208 , ..., 0.82900581, 0.07453247,\n",
              "        0.92849773]])"
            ]
          },
          "metadata": {},
          "execution_count": 39
        }
      ]
    },
    {
      "cell_type": "code",
      "source": [
        "state_t = np.zeros((output_features))\n",
        "state_t"
      ],
      "metadata": {
        "colab": {
          "base_uri": "https://localhost:8080/"
        },
        "id": "q3zsEbMkDqfL",
        "outputId": "4a9687b1-d3c4-4054-df66-5dc1107c4189"
      },
      "execution_count": 40,
      "outputs": [
        {
          "output_type": "execute_result",
          "data": {
            "text/plain": [
              "array([0., 0., 0., 0., 0., 0., 0., 0., 0., 0., 0., 0., 0., 0., 0., 0., 0.,\n",
              "       0., 0., 0., 0., 0., 0., 0., 0., 0., 0., 0., 0., 0., 0., 0., 0., 0.,\n",
              "       0., 0., 0., 0., 0., 0., 0., 0., 0., 0., 0., 0., 0., 0., 0., 0., 0.,\n",
              "       0., 0., 0., 0., 0., 0., 0., 0., 0., 0., 0., 0., 0.])"
            ]
          },
          "metadata": {},
          "execution_count": 40
        }
      ]
    },
    {
      "cell_type": "code",
      "source": [
        "W = np.random.random((output_features, input_features)) # ((64, 32))\n",
        "U = np.random.random((output_features, output_features)) # ((64, 64))\n",
        "b = np.random.random((output_features)) # ((64))"
      ],
      "metadata": {
        "id": "ZP9ZeMKSD4rb"
      },
      "execution_count": 41,
      "outputs": []
    },
    {
      "cell_type": "code",
      "source": [
        "sucessive_outputs = []\n",
        "\n",
        "for input_t in inputs:\n",
        "  output_t = np.tanh(np.dot(W, input_t) + np.dot(U, state_t) + b)\n",
        "  sucessive_outputs.append(output_t)\n",
        "  state_t = output_t\n",
        "\n",
        "final_output_sequence = np.stack(sucessive_outputs, axis = 0)\n",
        "# final_output_sequence\n",
        "# print(sucessive_outputs)"
      ],
      "metadata": {
        "id": "UzrVgv9KEdwr"
      },
      "execution_count": 42,
      "outputs": []
    },
    {
      "cell_type": "code",
      "source": [
        "from tensorflow.keras.layers import SimpleRNN, Embedding, Dense\n",
        "from tensorflow.keras.models import Sequential"
      ],
      "metadata": {
        "id": "zH2HMxDoFTAb"
      },
      "execution_count": 43,
      "outputs": []
    },
    {
      "cell_type": "code",
      "source": [
        "model = Sequential()\n",
        "model.add(Embedding(10000, 32))\n",
        "model.add(SimpleRNN(32))\n",
        "model.summary()"
      ],
      "metadata": {
        "colab": {
          "base_uri": "https://localhost:8080/"
        },
        "id": "ngrTCZbHFqEn",
        "outputId": "67067977-1420-4df8-b042-88d288c8f44d"
      },
      "execution_count": 44,
      "outputs": [
        {
          "output_type": "stream",
          "name": "stdout",
          "text": [
            "Model: \"sequential_9\"\n",
            "_________________________________________________________________\n",
            " Layer (type)                Output Shape              Param #   \n",
            "=================================================================\n",
            " embedding_9 (Embedding)     (None, None, 32)          320000    \n",
            "                                                                 \n",
            " simple_rnn_9 (SimpleRNN)    (None, 32)                2080      \n",
            "                                                                 \n",
            "=================================================================\n",
            "Total params: 322,080\n",
            "Trainable params: 322,080\n",
            "Non-trainable params: 0\n",
            "_________________________________________________________________\n"
          ]
        }
      ]
    },
    {
      "cell_type": "code",
      "source": [
        "model = Sequential()\n",
        "model.add(Embedding(10000, 32))\n",
        "model.add(SimpleRNN(32, return_sequences = True))\n",
        "model.summary()"
      ],
      "metadata": {
        "colab": {
          "base_uri": "https://localhost:8080/"
        },
        "id": "qpHOvuUuG28F",
        "outputId": "33df6a8d-95ee-4e69-9c5a-b22eeb6f22a0"
      },
      "execution_count": 45,
      "outputs": [
        {
          "output_type": "stream",
          "name": "stdout",
          "text": [
            "Model: \"sequential_10\"\n",
            "_________________________________________________________________\n",
            " Layer (type)                Output Shape              Param #   \n",
            "=================================================================\n",
            " embedding_10 (Embedding)    (None, None, 32)          320000    \n",
            "                                                                 \n",
            " simple_rnn_10 (SimpleRNN)   (None, None, 32)          2080      \n",
            "                                                                 \n",
            "=================================================================\n",
            "Total params: 322,080\n",
            "Trainable params: 322,080\n",
            "Non-trainable params: 0\n",
            "_________________________________________________________________\n"
          ]
        }
      ]
    },
    {
      "cell_type": "code",
      "source": [
        "from tensorflow.keras.datasets import imdb\n",
        "from tensorflow.keras.preprocessing import sequence"
      ],
      "metadata": {
        "id": "U5YWRf0QHirl"
      },
      "execution_count": 46,
      "outputs": []
    },
    {
      "cell_type": "code",
      "source": [
        "num_words = 10000\n",
        "max_len = 500\n",
        "batch_size = 32"
      ],
      "metadata": {
        "id": "cUr6Bf6eH-YE"
      },
      "execution_count": 47,
      "outputs": []
    },
    {
      "cell_type": "code",
      "source": [
        "(X_train, y_train), (X_test, y_test) = imdb.load_data(num_words = num_words)"
      ],
      "metadata": {
        "id": "HHUpXVxVIBV8"
      },
      "execution_count": 48,
      "outputs": []
    },
    {
      "cell_type": "code",
      "source": [
        "print(len(X_train))\n",
        "print(len(y_test))"
      ],
      "metadata": {
        "colab": {
          "base_uri": "https://localhost:8080/"
        },
        "id": "mcKluuFAIZRm",
        "outputId": "0e5c997b-2c9f-4310-9d66-40f6458be2c8"
      },
      "execution_count": 49,
      "outputs": [
        {
          "output_type": "stream",
          "name": "stdout",
          "text": [
            "25000\n",
            "25000\n"
          ]
        }
      ]
    },
    {
      "cell_type": "code",
      "source": [
        "pad_X_train = sequence.pad_sequences(X_train, maxlen = max_len)\n",
        "pad_X_test = sequence.pad_sequences(X_test, maxlen = max_len)"
      ],
      "metadata": {
        "id": "M4tnoMdKIcZ1"
      },
      "execution_count": 50,
      "outputs": []
    },
    {
      "cell_type": "code",
      "source": [
        "print(pad_X_train.shape)\n",
        "print(pad_X_test.shape)"
      ],
      "metadata": {
        "colab": {
          "base_uri": "https://localhost:8080/"
        },
        "id": "pjEYndAnI8Lv",
        "outputId": "0431a46f-68f5-4bca-eb82-ec7c1220d0a2"
      },
      "execution_count": 51,
      "outputs": [
        {
          "output_type": "stream",
          "name": "stdout",
          "text": [
            "(25000, 500)\n",
            "(25000, 500)\n"
          ]
        }
      ]
    },
    {
      "cell_type": "code",
      "source": [
        "model = Sequential()\n",
        "model.add(Embedding(10000, 32))\n",
        "model.add(SimpleRNN(32))\n",
        "model.add(Dense(1, activation = 'sigmoid'))\n",
        "model.summary()"
      ],
      "metadata": {
        "colab": {
          "base_uri": "https://localhost:8080/"
        },
        "id": "aSTdaL2YJDZF",
        "outputId": "d1113950-b521-486c-ba2f-ce08c259900c"
      },
      "execution_count": 52,
      "outputs": [
        {
          "output_type": "stream",
          "name": "stdout",
          "text": [
            "Model: \"sequential_11\"\n",
            "_________________________________________________________________\n",
            " Layer (type)                Output Shape              Param #   \n",
            "=================================================================\n",
            " embedding_11 (Embedding)    (None, None, 32)          320000    \n",
            "                                                                 \n",
            " simple_rnn_11 (SimpleRNN)   (None, 32)                2080      \n",
            "                                                                 \n",
            " dense_1 (Dense)             (None, 1)                 33        \n",
            "                                                                 \n",
            "=================================================================\n",
            "Total params: 322,113\n",
            "Trainable params: 322,113\n",
            "Non-trainable params: 0\n",
            "_________________________________________________________________\n"
          ]
        }
      ]
    },
    {
      "cell_type": "code",
      "source": [
        "model.compile(optimizer = 'rmsprop',\n",
        "              loss = 'binary_crossentropy',\n",
        "              metrics = ['accuracy'])\n",
        "model.summary()"
      ],
      "metadata": {
        "colab": {
          "base_uri": "https://localhost:8080/"
        },
        "id": "lX1CS2ugJl03",
        "outputId": "81a785b9-1de3-4c95-b15c-5cc7c64b626f"
      },
      "execution_count": 53,
      "outputs": [
        {
          "output_type": "stream",
          "name": "stdout",
          "text": [
            "Model: \"sequential_11\"\n",
            "_________________________________________________________________\n",
            " Layer (type)                Output Shape              Param #   \n",
            "=================================================================\n",
            " embedding_11 (Embedding)    (None, None, 32)          320000    \n",
            "                                                                 \n",
            " simple_rnn_11 (SimpleRNN)   (None, 32)                2080      \n",
            "                                                                 \n",
            " dense_1 (Dense)             (None, 1)                 33        \n",
            "                                                                 \n",
            "=================================================================\n",
            "Total params: 322,113\n",
            "Trainable params: 322,113\n",
            "Non-trainable params: 0\n",
            "_________________________________________________________________\n"
          ]
        }
      ]
    },
    {
      "cell_type": "markdown",
      "source": [
        "모델학습"
      ],
      "metadata": {
        "id": "ivgpCNEaKLxF"
      }
    },
    {
      "cell_type": "code",
      "source": [
        "history = model.fit(pad_X_train, y_train,\n",
        "                    epochs = 10,\n",
        "                    batch_size = 128,\n",
        "                    validation_split = 0.2)"
      ],
      "metadata": {
        "colab": {
          "base_uri": "https://localhost:8080/"
        },
        "id": "vlxQxsurJ8QG",
        "outputId": "aa01b9a2-c1a1-4040-ea85-a86f1f41cbc7"
      },
      "execution_count": 54,
      "outputs": [
        {
          "output_type": "stream",
          "name": "stdout",
          "text": [
            "Epoch 1/10\n",
            "157/157 [==============================] - 101s 616ms/step - loss: 0.6094 - accuracy: 0.6456 - val_loss: 0.4716 - val_accuracy: 0.8036\n",
            "Epoch 2/10\n",
            "157/157 [==============================] - 81s 517ms/step - loss: 0.3675 - accuracy: 0.8480 - val_loss: 0.3880 - val_accuracy: 0.8252\n",
            "Epoch 3/10\n",
            "157/157 [==============================] - 77s 491ms/step - loss: 0.2744 - accuracy: 0.8930 - val_loss: 0.3646 - val_accuracy: 0.8476\n",
            "Epoch 4/10\n",
            "157/157 [==============================] - 78s 498ms/step - loss: 0.2156 - accuracy: 0.9194 - val_loss: 0.6639 - val_accuracy: 0.7820\n",
            "Epoch 5/10\n",
            "157/157 [==============================] - 71s 451ms/step - loss: 0.1695 - accuracy: 0.9369 - val_loss: 0.3874 - val_accuracy: 0.8650\n",
            "Epoch 6/10\n",
            "157/157 [==============================] - 70s 446ms/step - loss: 0.1212 - accuracy: 0.9578 - val_loss: 0.3900 - val_accuracy: 0.8504\n",
            "Epoch 7/10\n",
            "157/157 [==============================] - 70s 445ms/step - loss: 0.0909 - accuracy: 0.9704 - val_loss: 0.4898 - val_accuracy: 0.8142\n",
            "Epoch 8/10\n",
            "157/157 [==============================] - 70s 446ms/step - loss: 0.0599 - accuracy: 0.9814 - val_loss: 0.4918 - val_accuracy: 0.8192\n",
            "Epoch 9/10\n",
            "157/157 [==============================] - 71s 452ms/step - loss: 0.0403 - accuracy: 0.9875 - val_loss: 0.6155 - val_accuracy: 0.7904\n",
            "Epoch 10/10\n",
            "157/157 [==============================] - 70s 446ms/step - loss: 0.0323 - accuracy: 0.9911 - val_loss: 0.5315 - val_accuracy: 0.8388\n"
          ]
        }
      ]
    },
    {
      "cell_type": "markdown",
      "source": [
        "시각화"
      ],
      "metadata": {
        "id": "JXwjTF42Krcd"
      }
    },
    {
      "cell_type": "code",
      "source": [
        "import matplotlib.pyplot as plt\n",
        "plt.style.use('seaborn-white')\n",
        "acc = history.history['accuracy']\n",
        "val_acc = history.history['val_accuracy']\n",
        "loss = history.history['loss']\n",
        "val_loss = history.history['val_loss']\n",
        "\n",
        "epochs = range(1, len(loss) + 1)\n",
        "plt.plot(epochs, loss, 'b-', label = 'training loss')\n",
        "plt.plot(epochs, val_loss, 'r:', label = 'validation loss')\n",
        "plt.grid()\n",
        "plt.legend()\n",
        "\n",
        "plt.figure()\n",
        "plt.plot(epochs, acc, 'b-', label = 'training accuracy')\n",
        "plt.plot(epochs, val_acc, 'r:', label = 'validation accuracy')\n",
        "plt.grid()\n",
        "plt.legend()\n",
        "\n",
        "plt.show()"
      ],
      "metadata": {
        "id": "JmGg4CXnKaru"
      },
      "execution_count": 55,
      "outputs": []
    },
    {
      "cell_type": "markdown",
      "source": [
        "검증"
      ],
      "metadata": {
        "id": "m90fFiUeMPZ1"
      }
    },
    {
      "cell_type": "code",
      "source": [
        "model.evaluate(pad_X_test, y_test)"
      ],
      "metadata": {
        "id": "NuMqEw_fKuRN",
        "colab": {
          "base_uri": "https://localhost:8080/"
        },
        "outputId": "ac7f0c6c-4ef5-4d6e-a30a-c4428669064a"
      },
      "execution_count": 56,
      "outputs": [
        {
          "output_type": "stream",
          "name": "stdout",
          "text": [
            "782/782 [==============================] - 31s 40ms/step - loss: 0.5703 - accuracy: 0.8306\n"
          ]
        },
        {
          "output_type": "execute_result",
          "data": {
            "text/plain": [
              "[0.5702670216560364, 0.830560028553009]"
            ]
          },
          "metadata": {},
          "execution_count": 56
        }
      ]
    },
    {
      "cell_type": "code",
      "source": [
        "# 전체 단어가 아니라 순서대로 500개의 단어만 입력했기 때문에 성능이 낮음\n"
      ],
      "metadata": {
        "id": "pIr8bsEVMgsX"
      },
      "execution_count": 57,
      "outputs": []
    },
    {
      "cell_type": "code",
      "source": [
        ""
      ],
      "metadata": {
        "id": "OFWNYcIKMwAZ"
      },
      "execution_count": null,
      "outputs": []
    }
  ]
}