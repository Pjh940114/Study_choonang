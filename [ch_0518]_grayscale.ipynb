{
  "nbformat": 4,
  "nbformat_minor": 0,
  "metadata": {
    "colab": {
      "name": "[ch_0518]_grayscale.ipynb",
      "provenance": [],
      "collapsed_sections": [],
      "toc_visible": true,
      "mount_file_id": "1LRpBm3-f6rDqkrMPNCt8hSXVjIgIRA08",
      "authorship_tag": "ABX9TyPKgnXDdM8f6UC1NiBt67uP",
      "include_colab_link": true
    },
    "kernelspec": {
      "name": "python3",
      "display_name": "Python 3"
    },
    "language_info": {
      "name": "python"
    }
  },
  "cells": [
    {
      "cell_type": "markdown",
      "metadata": {
        "id": "view-in-github",
        "colab_type": "text"
      },
      "source": [
        "<a href=\"https://colab.research.google.com/github/Pjh940114/Study_choonang/blob/main/%5Bch_0518%5D_grayscale.ipynb\" target=\"_parent\"><img src=\"https://colab.research.google.com/assets/colab-badge.svg\" alt=\"Open In Colab\"/></a>"
      ]
    },
    {
      "cell_type": "code",
      "execution_count": null,
      "metadata": {
        "colab": {
          "base_uri": "https://localhost:8080/",
          "height": 248
        },
        "id": "_immtYkjNpge",
        "outputId": "374d14ec-a75b-4b2b-829f-2bd2f7111bba"
      },
      "outputs": [
        {
          "output_type": "error",
          "ename": "SystemError",
          "evalue": "ignored",
          "traceback": [
            "\u001b[0;31m---------------------------------------------------------------------------\u001b[0m",
            "\u001b[0;31mSystemError\u001b[0m                               Traceback (most recent call last)",
            "\u001b[0;32m<ipython-input-3-59416cd7e30f>\u001b[0m in \u001b[0;36m<module>\u001b[0;34m()\u001b[0m\n\u001b[1;32m     24\u001b[0m \u001b[0;34m\u001b[0m\u001b[0m\n\u001b[1;32m     25\u001b[0m \u001b[0;34m\u001b[0m\u001b[0m\n\u001b[0;32m---> 26\u001b[0;31m \u001b[0mgray2gray\u001b[0m  \u001b[0;34m=\u001b[0m \u001b[0mcv2\u001b[0m\u001b[0;34m.\u001b[0m\u001b[0mimread\u001b[0m\u001b[0;34m(\u001b[0m\u001b[0mimg_gray_gray_path\u001b[0m\u001b[0;34m,\u001b[0m \u001b[0mcv2\u001b[0m\u001b[0;34m.\u001b[0m\u001b[0mIMREAD_GRAYSCALE\u001b[0m\u001b[0;34m)\u001b[0m \u001b[0;31m# 영상 파일 적재\u001b[0m\u001b[0;34m\u001b[0m\u001b[0;34m\u001b[0m\u001b[0m\n\u001b[0m\u001b[1;32m     27\u001b[0m \u001b[0mgray2color\u001b[0m \u001b[0;34m=\u001b[0m \u001b[0mcv2\u001b[0m\u001b[0;34m.\u001b[0m\u001b[0mimread\u001b[0m\u001b[0;34m(\u001b[0m\u001b[0mimg_gray_color_path\u001b[0m\u001b[0;34m,\u001b[0m \u001b[0mcv2\u001b[0m\u001b[0;34m.\u001b[0m\u001b[0mIMREAD_COLOR\u001b[0m\u001b[0;34m)\u001b[0m\u001b[0;34m\u001b[0m\u001b[0;34m\u001b[0m\u001b[0m\n\u001b[1;32m     28\u001b[0m \u001b[0;34m\u001b[0m\u001b[0m\n",
            "\u001b[0;31mSystemError\u001b[0m: <built-in function imread> returned NULL without setting an error"
          ]
        }
      ],
      "source": [
        "import cv2\n",
        "def print_matInfo(name, image):\n",
        "    if image.dtype == 'uint8':     mat_type = \"CV_8U\"\n",
        "    elif image.dtype == 'int8':    mat_type = \"CV_8S\"\n",
        "    elif image.dtype == 'uint16':  mat_type = \"CV_16U\"\n",
        "    elif image.dtype == 'int16':   mat_type = \"CV_16S\"\n",
        "    elif image.dtype == 'float32': mat_type = \"CV_32F\"\n",
        "    elif image.dtype == 'float64': mat_type = \"CV_64F\"\n",
        "    nchannel = 3 if image.ndim == 3 else 1\n",
        "    ## depth, channel 출력\n",
        "    print(\"%12s: depth(%s), channels(%s) -> mat_type(%sC%d)\"\n",
        "          % (name, image.dtype, nchannel, mat_type,  nchannel))\n",
        "title1, title2 = \"gray2gray\", \"gray2color\"      # 윈도우 이름\n",
        "gray2gray  = cv2.imread(\"images/read_gray.jpg\", cv2.IMREAD_GRAYSCALE) # 영상 파일 적재\n",
        "gray2color = cv2.imread(\"images/read_gray.jpg\", cv2.IMREAD_COLOR)\n",
        "if (gray2gray is None or gray2color is None) :  # 예외처리 -영상 파일 읽기 여부 조사\n",
        "    raise Exception(\"영상파일 읽기 에러\")\n",
        "# 행렬 내 한 화소 값 표시\n",
        "print(\"행렬 좌표 (100, 100) 화소값\")\n",
        "print(\"%s %s\" % (title1, gray2gray[100, 100]))\n",
        "print(\"%s %s\\n\" % (title2, gray2color[100, 100]))\n",
        "print_matInfo(title1, gray2gray)\n",
        "print_matInfo(title2, gray2color)\n",
        "cv2.imshow(title1, gray2gray)\n",
        "cv2.imshow(title2, gray2color)\n",
        "cv2.waitKey(0)"
      ]
    },
    {
      "cell_type": "markdown",
      "source": [
        "# 저장"
      ],
      "metadata": {
        "id": "_3MXjppYQ2ph"
      }
    },
    {
      "cell_type": "code",
      "source": [
        "import cv2\n",
        "image = cv2.imread(\"images/read_color.jpg\", cv2.IMREAD_COLOR)\n",
        "if image is None: raise Exception(\"영상 파일 읽기 에러\")\n",
        "params_jpg = (cv2.IMWRITE_JPEG_QUALITY, 10)        # JPEG 화질 설정\n",
        "params_png = [cv2.IMWRITE_PNG_COMPRESSION, 9]       # PNG 압축 레벨 설정\n",
        "## 행렬을 영상 파일로 저장\n",
        "cv2.imwrite(\"images/write_test1.jpg\", image)       # 디폴트는 95\n",
        "cv2.imwrite(\"images/write_test2.jpg\", image, params_jpg) # 지정 화질로 저장\n",
        "cv2.imwrite(\"images/write_test3.png\", image, params_png)\n",
        "cv2.imwrite(\"iamges/write_test4.bmp\", image)         # BMP 파일로 저장\n",
        "print(\"저장 완료\")"
      ],
      "metadata": {
        "colab": {
          "base_uri": "https://localhost:8080/",
          "height": 248
        },
        "id": "28p0cCQBRPzq",
        "outputId": "e81cf228-0847-456f-c6fa-ef9a1ac2780b"
      },
      "execution_count": null,
      "outputs": [
        {
          "output_type": "error",
          "ename": "Exception",
          "evalue": "ignored",
          "traceback": [
            "\u001b[0;31m---------------------------------------------------------------------------\u001b[0m",
            "\u001b[0;31mException\u001b[0m                                 Traceback (most recent call last)",
            "\u001b[0;32m<ipython-input-4-96a7384115cf>\u001b[0m in \u001b[0;36m<module>\u001b[0;34m()\u001b[0m\n\u001b[1;32m      1\u001b[0m \u001b[0;32mimport\u001b[0m \u001b[0mcv2\u001b[0m\u001b[0;34m\u001b[0m\u001b[0;34m\u001b[0m\u001b[0m\n\u001b[1;32m      2\u001b[0m \u001b[0mimage\u001b[0m \u001b[0;34m=\u001b[0m \u001b[0mcv2\u001b[0m\u001b[0;34m.\u001b[0m\u001b[0mimread\u001b[0m\u001b[0;34m(\u001b[0m\u001b[0;34m\"images/read_color.jpg\"\u001b[0m\u001b[0;34m,\u001b[0m \u001b[0mcv2\u001b[0m\u001b[0;34m.\u001b[0m\u001b[0mIMREAD_COLOR\u001b[0m\u001b[0;34m)\u001b[0m\u001b[0;34m\u001b[0m\u001b[0;34m\u001b[0m\u001b[0m\n\u001b[0;32m----> 3\u001b[0;31m \u001b[0;32mif\u001b[0m \u001b[0mimage\u001b[0m \u001b[0;32mis\u001b[0m \u001b[0;32mNone\u001b[0m\u001b[0;34m:\u001b[0m \u001b[0;32mraise\u001b[0m \u001b[0mException\u001b[0m\u001b[0;34m(\u001b[0m\u001b[0;34m\"영상 파일 읽기 에러\"\u001b[0m\u001b[0;34m)\u001b[0m\u001b[0;34m\u001b[0m\u001b[0;34m\u001b[0m\u001b[0m\n\u001b[0m\u001b[1;32m      4\u001b[0m \u001b[0mparams_jpg\u001b[0m \u001b[0;34m=\u001b[0m \u001b[0;34m(\u001b[0m\u001b[0mcv2\u001b[0m\u001b[0;34m.\u001b[0m\u001b[0mIMWRITE_JPEG_QUALITY\u001b[0m\u001b[0;34m,\u001b[0m \u001b[0;36m10\u001b[0m\u001b[0;34m)\u001b[0m        \u001b[0;31m# JPEG 화질 설정\u001b[0m\u001b[0;34m\u001b[0m\u001b[0;34m\u001b[0m\u001b[0m\n\u001b[1;32m      5\u001b[0m \u001b[0mparams_png\u001b[0m \u001b[0;34m=\u001b[0m \u001b[0;34m[\u001b[0m\u001b[0mcv2\u001b[0m\u001b[0;34m.\u001b[0m\u001b[0mIMWRITE_PNG_COMPRESSION\u001b[0m\u001b[0;34m,\u001b[0m \u001b[0;36m9\u001b[0m\u001b[0;34m]\u001b[0m       \u001b[0;31m# PNG 압축 레벨 설정\u001b[0m\u001b[0;34m\u001b[0m\u001b[0;34m\u001b[0m\u001b[0m\n",
            "\u001b[0;31mException\u001b[0m: 영상 파일 읽기 에러"
          ]
        }
      ]
    },
    {
      "cell_type": "code",
      "source": [
        "import numpy as np\n",
        "import cv2\n",
        "image8 = cv2.imread(\"images/read_color.jpg\", cv2.IMREAD_COLOR)\n",
        "if image8 is None: raise Exception(\"영상파일 읽기 에러\") \t# 영상 파일 예외처리\n",
        "image16 = np.uint16(image8 * (65535/255))       # 형변환 및 화소 스케일 조정\n",
        "image32 = np.float32(image8 * (1/255))\n",
        "# 화소값을 확인하기 위한 관심 영역(10,10 위치에서 2x3 크기) 출력\n",
        "print(\"image8 행렬의 일부\\n %s\\n\"  % image8[10:12, 10:13])\n",
        "print(\"image16 행렬의 일부\\n %s\\n\" % image16[10:12, 10:13])\n",
        "print(\"image32 행렬의 일부\\n %s\\n\" % image32[10:12, 10:13])\n",
        "cv2.imwrite(\"images/write_test_16.tif\", image16)\n",
        "cv2.imwrite(\"images/write_test_32.tif\", image32)\n",
        "cv2.imshow(\"image16\", image16)\n",
        "cv2.imshow(\"image32\", (image32*255).astype(\"uint8\"))\n",
        "cv2.waitKey(0)"
      ],
      "metadata": {
        "colab": {
          "base_uri": "https://localhost:8080/",
          "height": 248
        },
        "id": "3oWflwVbRQDl",
        "outputId": "3d99d4d5-22d5-46b7-de31-f656ec7a8708"
      },
      "execution_count": null,
      "outputs": [
        {
          "output_type": "error",
          "ename": "Exception",
          "evalue": "ignored",
          "traceback": [
            "\u001b[0;31m---------------------------------------------------------------------------\u001b[0m",
            "\u001b[0;31mException\u001b[0m                                 Traceback (most recent call last)",
            "\u001b[0;32m<ipython-input-5-f5cc920c2899>\u001b[0m in \u001b[0;36m<module>\u001b[0;34m()\u001b[0m\n\u001b[1;32m      2\u001b[0m \u001b[0;32mimport\u001b[0m \u001b[0mcv2\u001b[0m\u001b[0;34m\u001b[0m\u001b[0;34m\u001b[0m\u001b[0m\n\u001b[1;32m      3\u001b[0m \u001b[0mimage8\u001b[0m \u001b[0;34m=\u001b[0m \u001b[0mcv2\u001b[0m\u001b[0;34m.\u001b[0m\u001b[0mimread\u001b[0m\u001b[0;34m(\u001b[0m\u001b[0;34m\"images/read_color.jpg\"\u001b[0m\u001b[0;34m,\u001b[0m \u001b[0mcv2\u001b[0m\u001b[0;34m.\u001b[0m\u001b[0mIMREAD_COLOR\u001b[0m\u001b[0;34m)\u001b[0m\u001b[0;34m\u001b[0m\u001b[0;34m\u001b[0m\u001b[0m\n\u001b[0;32m----> 4\u001b[0;31m \u001b[0;32mif\u001b[0m \u001b[0mimage8\u001b[0m \u001b[0;32mis\u001b[0m \u001b[0;32mNone\u001b[0m\u001b[0;34m:\u001b[0m \u001b[0;32mraise\u001b[0m \u001b[0mException\u001b[0m\u001b[0;34m(\u001b[0m\u001b[0;34m\"영상파일 읽기 에러\"\u001b[0m\u001b[0;34m)\u001b[0m        \u001b[0;31m# 영상 파일 예외처리\u001b[0m\u001b[0;34m\u001b[0m\u001b[0;34m\u001b[0m\u001b[0m\n\u001b[0m\u001b[1;32m      5\u001b[0m \u001b[0mimage16\u001b[0m \u001b[0;34m=\u001b[0m \u001b[0mnp\u001b[0m\u001b[0;34m.\u001b[0m\u001b[0muint16\u001b[0m\u001b[0;34m(\u001b[0m\u001b[0mimage8\u001b[0m \u001b[0;34m*\u001b[0m \u001b[0;34m(\u001b[0m\u001b[0;36m65535\u001b[0m\u001b[0;34m/\u001b[0m\u001b[0;36m255\u001b[0m\u001b[0;34m)\u001b[0m\u001b[0;34m)\u001b[0m       \u001b[0;31m# 형변환 및 화소 스케일 조정\u001b[0m\u001b[0;34m\u001b[0m\u001b[0;34m\u001b[0m\u001b[0m\n\u001b[1;32m      6\u001b[0m \u001b[0mimage32\u001b[0m \u001b[0;34m=\u001b[0m \u001b[0mnp\u001b[0m\u001b[0;34m.\u001b[0m\u001b[0mfloat32\u001b[0m\u001b[0;34m(\u001b[0m\u001b[0mimage8\u001b[0m \u001b[0;34m*\u001b[0m \u001b[0;34m(\u001b[0m\u001b[0;36m1\u001b[0m\u001b[0;34m/\u001b[0m\u001b[0;36m255\u001b[0m\u001b[0;34m)\u001b[0m\u001b[0;34m)\u001b[0m\u001b[0;34m\u001b[0m\u001b[0;34m\u001b[0m\u001b[0m\n",
            "\u001b[0;31mException\u001b[0m: 영상파일 읽기 에러"
          ]
        }
      ]
    },
    {
      "cell_type": "code",
      "source": [
        ""
      ],
      "metadata": {
        "id": "y9eIcWi4RSiG"
      },
      "execution_count": null,
      "outputs": []
    }
  ]
}